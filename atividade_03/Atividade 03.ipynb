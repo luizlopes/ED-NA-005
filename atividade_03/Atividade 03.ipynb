{
 "cells": [
  {
   "attachments": {},
   "cell_type": "markdown",
   "id": "ebfbea4e",
   "metadata": {},
   "source": [
    "# Atividade 3\n",
    "\n",
    "Faça tudo via dbt. \n",
    "\n",
    "Envia como resposta:\n",
    "- A query SQL\n",
    "- Comando utilizado via terminal no `dbt`\n",
    "- Um print do resultado no próprio notebook, para isso é necessário criar uma pasta no repositório onde serão armazenadas as imagens, e para inserir no notebook é necessário criar uma célula `markdown` e inserir o seguinte comando: \n",
    "\n",
    "```markdown\n",
    "![Nome da Foto](path/para/imagem)\n",
    "```"
   ]
  },
  {
   "attachments": {},
   "cell_type": "markdown",
   "id": "c0c42967",
   "metadata": {},
   "source": [
    "1. Crie uma tabela `orders_by_year` a partir de `orders` que agrupa a quantidade de pedidos por ano, considerando a coluna `order_approved_at`"
   ]
  },
  {
   "attachments": {},
   "cell_type": "markdown",
   "id": "261e7d7e",
   "metadata": {},
   "source": [
    "### Query\n",
    "\n",
    "```sql\n",
    "SELECT\n",
    "  EXTRACT(YEAR\n",
    "  FROM\n",
    "    order_approved_at) AS order_approved_year,\n",
    "  COUNT(*) AS total\n",
    "FROM\n",
    "  `dbt-shop-luizlopes.dtb_shop.orders`\n",
    "GROUP BY\n",
    "  order_approved_year\n",
    "ORDER BY \n",
    "  order_approved_year;\n",
    "```\n",
    "\n",
    "### Comando\n",
    "\n",
    "`dbt run --models orders_by_year`\n",
    "\n",
    "### Resultado\n",
    "\n",
    "![Orders By Year](imagens/orders_by_year_gcp.png)"
   ]
  },
  {
   "attachments": {},
   "cell_type": "markdown",
   "id": "aa520524",
   "metadata": {},
   "source": [
    "2. Crie uma `view` que agrega os totais de pedidos por estado. Considere as tabelas _customers_ para obter os estados (coluna _customer_state_) e _orders_ para contabilizar a quantidade de pedidos."
   ]
  },
  {
   "attachments": {},
   "cell_type": "markdown",
   "id": "1b7854a4",
   "metadata": {},
   "source": [
    "## Query\n",
    "\n",
    "```sql\n",
    "SELECT\n",
    "  customers.customer_state,\n",
    "  COUNT(*) AS total\n",
    "FROM\n",
    "  `dbt-shop-luizlopes.dtb_shop.customers` customers\n",
    "INNER JOIN\n",
    "  `dbt-shop-luizlopes.dtb_shop.orders` orders\n",
    "ON\n",
    "  orders.customer_id = customers.customer_id\n",
    "GROUP BY\n",
    "  customers.customer_state\n",
    "ORDER BY\n",
    "  customers.customer_state\n",
    "```\n",
    "\n",
    "## Comando\n",
    "\n",
    "`dbt run --models orders_by_customer_state`\n",
    "\n",
    "## Resultado\n",
    "\n",
    "\n",
    "![Orders by customer state](imagens/orders_by_customer_state.png)\n"
   ]
  },
  {
   "attachments": {},
   "cell_type": "markdown",
   "id": "54e0e5f1",
   "metadata": {},
   "source": [
    "3. De acordo com o resultado do exercício 2 retorne apenas os estados que tem mais de 5000 pedidos, esse número deve ser passado via variável `number_of_orders` do `dbt`."
   ]
  },
  {
   "attachments": {},
   "cell_type": "markdown",
   "id": "f749dbee",
   "metadata": {},
   "source": [
    "## Query\n",
    "\n",
    "```sql\n",
    "SELECT\n",
    "  customer_state, total\n",
    "FROM\n",
    "  `dbt-shop-luizlopes.dtb_shop.orders_by_customer_state`\n",
    "WHERE\n",
    "  total is not null and total >= CAST('{{ var(\"number_of_orders\") }}' AS integer)\n",
    "ORDER BY customer_state\n",
    "```\n",
    "\n",
    "## Comando\n",
    "\n",
    "`dbt run --models orders_by_customer_state_with_filter --vars \"{'number_of_orders': '5000'}\"`\n",
    "\n",
    "## Resultado\n",
    "\n",
    "![Orders by customer state with filter](imagens/orders_by_customer_state_with_filter.png)"
   ]
  },
  {
   "attachments": {},
   "cell_type": "markdown",
   "id": "9c3ad0cc",
   "metadata": {},
   "source": [
    "4. Crie uma `view` chamada `customers_by_region` que utiliza os dados da tabela `customers`. A visão deve realizar uma agregação por região do Brasil (Norte, Nordeste, Sudeste, Centro Oeste e Sul) e contar o número de clientes em cada uma delas."
   ]
  },
  {
   "attachments": {},
   "cell_type": "markdown",
   "id": "406e4c6a",
   "metadata": {},
   "source": [
    "## Query\n",
    "\n",
    "```sql\n",
    "SELECT\n",
    "  count(*) as total,\n",
    "  CASE\n",
    "    WHEN customer_state IN ('GO', 'MT', 'MS', 'DF') THEN 'Centro-Oeste'\n",
    "    WHEN customer_state IN ('MA', 'PI', 'RN', 'CE', 'PB', 'BA', 'PE', 'AL', 'SE') THEN 'Nordeste'\n",
    "    WHEN customer_state IN ('AM', 'AC', 'RO', 'RR', 'AP', 'PA', 'TO') THEN 'Norte'\n",
    "    WHEN customer_state IN ('ES', 'MG', 'RJ', 'SP') THEN 'Sudeste'\n",
    "    WHEN customer_state IN ('PR', 'RS', 'SC') THEN 'Sul'\n",
    "  END AS customer_region\n",
    "FROM\n",
    "  `dbt-shop-luizlopes.dtb_shop.customers`\n",
    "GROUP BY customer_region\n",
    "```\n",
    "\n",
    "## Comando\n",
    "\n",
    "`dbt run --models customers_by_region`\n",
    "\n",
    "## Resultado\n",
    "\n",
    "![Customers by region](imagens/customers_by_region.png)\n"
   ]
  },
  {
   "attachments": {},
   "cell_type": "markdown",
   "id": "d4c16290",
   "metadata": {},
   "source": [
    "5. Crie uma tabela `items_costs` que contenha o preço total de um item (soma do valor do produto com o frete)."
   ]
  },
  {
   "attachments": {},
   "cell_type": "markdown",
   "id": "56235826",
   "metadata": {},
   "source": [
    "## Query\n",
    "\n",
    "```sql\n",
    "SELECT\n",
    "  *,\n",
    "  (price + freight_value) AS total_price\n",
    "FROM\n",
    "  `dbt-shop-luizlopes.dtb_shop.items`\n",
    "```\n",
    "\n",
    "## Comando\n",
    "\n",
    "`dbt run --models items_costs`\n",
    "\n",
    "## Resultado\n",
    "\n",
    "![Items costs](imagens/items_costs.png)\n"
   ]
  },
  {
   "attachments": {},
   "cell_type": "markdown",
   "id": "08cc4c02",
   "metadata": {},
   "source": [
    "6. Crie uma `view` com o nome `orders_shipped_costs`, você deve calcular o preço total do pedido somado com o frete, apenas para pedidos enviado (shipped)."
   ]
  },
  {
   "attachments": {},
   "cell_type": "markdown",
   "id": "fd835d3c",
   "metadata": {},
   "source": [
    "## Query\n",
    "\n",
    "```sql\n",
    "SELECT\n",
    "  round(order_total_price.order_total_price, 2) as order_total_price,\n",
    "  orders.*\n",
    "FROM\n",
    "  `dbt-shop-luizlopes.dtb_shop.orders` orders\n",
    "INNER JOIN (\n",
    "  SELECT\n",
    "    items_costs.order_id,\n",
    "    SUM(items_costs.total_price) AS order_total_price\n",
    "  FROM\n",
    "    `dbt-shop-luizlopes.dtb_shop.items_costs` items_costs\n",
    "  GROUP BY\n",
    "    items_costs.order_id) order_total_price\n",
    "ON\n",
    "  order_total_price.order_id = orders.order_id\n",
    "WHERE\n",
    "  orders.order_status = 'shipped'\n",
    "```\n",
    "\n",
    "## Comando\n",
    "\n",
    "`dbt run --models orders_shipped_costs`\n",
    "\n",
    "## Resultado\n",
    "\n",
    "![Order shipped costs](imagens/order_shipped_costs.png)\n"
   ]
  }
 ],
 "metadata": {
  "kernelspec": {
   "display_name": "Python 3",
   "language": "python",
   "name": "python3"
  },
  "language_info": {
   "codemirror_mode": {
    "name": "ipython",
    "version": 3
   },
   "file_extension": ".py",
   "mimetype": "text/x-python",
   "name": "python",
   "nbconvert_exporter": "python",
   "pygments_lexer": "ipython3",
   "version": "3.9.1"
  }
 },
 "nbformat": 4,
 "nbformat_minor": 5
}
